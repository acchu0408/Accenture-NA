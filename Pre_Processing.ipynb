{
  "nbformat": 4,
  "nbformat_minor": 0,
  "metadata": {
    "colab": {
      "provenance": [],
      "authorship_tag": "ABX9TyNl/igDgRPyQ4MEvijdbKTi",
      "include_colab_link": true
    },
    "kernelspec": {
      "name": "python3",
      "display_name": "Python 3"
    },
    "language_info": {
      "name": "python"
    }
  },
  "cells": [
    {
      "cell_type": "markdown",
      "metadata": {
        "id": "view-in-github",
        "colab_type": "text"
      },
      "source": [
        "<a href=\"https://colab.research.google.com/github/acchu0408/Accenture-NA/blob/main/Pre_Processing.ipynb\" target=\"_parent\"><img src=\"https://colab.research.google.com/assets/colab-badge.svg\" alt=\"Open In Colab\"/></a>"
      ]
    },
    {
      "cell_type": "code",
      "execution_count": null,
      "metadata": {
        "id": "IzvP9lwdQS7h"
      },
      "outputs": [],
      "source": [
        "import pandas as pd\n",
        "import numpy as np\n",
        "import matplotlib.pyplot as plt\n",
        "%matplotlib inline\n",
        "import seaborn as sns"
      ]
    },
    {
      "cell_type": "code",
      "source": [
        "df = pd.read_csv(\"Task 2.csv\")"
      ],
      "metadata": {
        "id": "tPSO4bszR7TW"
      },
      "execution_count": null,
      "outputs": []
    },
    {
      "cell_type": "code",
      "source": [
        "df.head()"
      ],
      "metadata": {
        "colab": {
          "base_uri": "https://localhost:8080/",
          "height": 206
        },
        "id": "cC_Pr5t7SBwb",
        "outputId": "77144915-003d-46be-c103-65bbd62c0ba3"
      },
      "execution_count": null,
      "outputs": [
        {
          "output_type": "execute_result",
          "data": {
            "text/plain": [
              "   Column1                            Content ID Reaction Type  \\\n",
              "0        0  97522e57-d9ab-4bd6-97bf-c24d952602d2           NaN   \n",
              "1        1  97522e57-d9ab-4bd6-97bf-c24d952602d2       disgust   \n",
              "2        4  97522e57-d9ab-4bd6-97bf-c24d952602d2       disgust   \n",
              "3        2  97522e57-d9ab-4bd6-97bf-c24d952602d2       dislike   \n",
              "4        3  97522e57-d9ab-4bd6-97bf-c24d952602d2        scared   \n",
              "\n",
              "           Datetime                               User ID Content Type  \\\n",
              "0  22-04-2021 15:17  8d3cd87d-8a31-4935-9a4f-b319bfe05f31        photo   \n",
              "1  07-11-2020 09:43  8d3cd87d-8a31-4935-9a4f-b319bfe05f31        photo   \n",
              "2  06-01-2021 19:13  8d3cd87d-8a31-4935-9a4f-b319bfe05f31        photo   \n",
              "3  17-06-2021 12:22  8d3cd87d-8a31-4935-9a4f-b319bfe05f31        photo   \n",
              "4  18-04-2021 05:13  8d3cd87d-8a31-4935-9a4f-b319bfe05f31        photo   \n",
              "\n",
              "   Category Sentiment  Score  \n",
              "0  Studying       NaN    NaN  \n",
              "1  Studying  negative    0.0  \n",
              "2  Studying  negative    0.0  \n",
              "3  Studying  negative   10.0  \n",
              "4  Studying  negative   15.0  "
            ],
            "text/html": [
              "\n",
              "  <div id=\"df-cdba0938-fb7f-4dad-bbf9-2454043dacd7\">\n",
              "    <div class=\"colab-df-container\">\n",
              "      <div>\n",
              "<style scoped>\n",
              "    .dataframe tbody tr th:only-of-type {\n",
              "        vertical-align: middle;\n",
              "    }\n",
              "\n",
              "    .dataframe tbody tr th {\n",
              "        vertical-align: top;\n",
              "    }\n",
              "\n",
              "    .dataframe thead th {\n",
              "        text-align: right;\n",
              "    }\n",
              "</style>\n",
              "<table border=\"1\" class=\"dataframe\">\n",
              "  <thead>\n",
              "    <tr style=\"text-align: right;\">\n",
              "      <th></th>\n",
              "      <th>Column1</th>\n",
              "      <th>Content ID</th>\n",
              "      <th>Reaction Type</th>\n",
              "      <th>Datetime</th>\n",
              "      <th>User ID</th>\n",
              "      <th>Content Type</th>\n",
              "      <th>Category</th>\n",
              "      <th>Sentiment</th>\n",
              "      <th>Score</th>\n",
              "    </tr>\n",
              "  </thead>\n",
              "  <tbody>\n",
              "    <tr>\n",
              "      <th>0</th>\n",
              "      <td>0</td>\n",
              "      <td>97522e57-d9ab-4bd6-97bf-c24d952602d2</td>\n",
              "      <td>NaN</td>\n",
              "      <td>22-04-2021 15:17</td>\n",
              "      <td>8d3cd87d-8a31-4935-9a4f-b319bfe05f31</td>\n",
              "      <td>photo</td>\n",
              "      <td>Studying</td>\n",
              "      <td>NaN</td>\n",
              "      <td>NaN</td>\n",
              "    </tr>\n",
              "    <tr>\n",
              "      <th>1</th>\n",
              "      <td>1</td>\n",
              "      <td>97522e57-d9ab-4bd6-97bf-c24d952602d2</td>\n",
              "      <td>disgust</td>\n",
              "      <td>07-11-2020 09:43</td>\n",
              "      <td>8d3cd87d-8a31-4935-9a4f-b319bfe05f31</td>\n",
              "      <td>photo</td>\n",
              "      <td>Studying</td>\n",
              "      <td>negative</td>\n",
              "      <td>0.0</td>\n",
              "    </tr>\n",
              "    <tr>\n",
              "      <th>2</th>\n",
              "      <td>4</td>\n",
              "      <td>97522e57-d9ab-4bd6-97bf-c24d952602d2</td>\n",
              "      <td>disgust</td>\n",
              "      <td>06-01-2021 19:13</td>\n",
              "      <td>8d3cd87d-8a31-4935-9a4f-b319bfe05f31</td>\n",
              "      <td>photo</td>\n",
              "      <td>Studying</td>\n",
              "      <td>negative</td>\n",
              "      <td>0.0</td>\n",
              "    </tr>\n",
              "    <tr>\n",
              "      <th>3</th>\n",
              "      <td>2</td>\n",
              "      <td>97522e57-d9ab-4bd6-97bf-c24d952602d2</td>\n",
              "      <td>dislike</td>\n",
              "      <td>17-06-2021 12:22</td>\n",
              "      <td>8d3cd87d-8a31-4935-9a4f-b319bfe05f31</td>\n",
              "      <td>photo</td>\n",
              "      <td>Studying</td>\n",
              "      <td>negative</td>\n",
              "      <td>10.0</td>\n",
              "    </tr>\n",
              "    <tr>\n",
              "      <th>4</th>\n",
              "      <td>3</td>\n",
              "      <td>97522e57-d9ab-4bd6-97bf-c24d952602d2</td>\n",
              "      <td>scared</td>\n",
              "      <td>18-04-2021 05:13</td>\n",
              "      <td>8d3cd87d-8a31-4935-9a4f-b319bfe05f31</td>\n",
              "      <td>photo</td>\n",
              "      <td>Studying</td>\n",
              "      <td>negative</td>\n",
              "      <td>15.0</td>\n",
              "    </tr>\n",
              "  </tbody>\n",
              "</table>\n",
              "</div>\n",
              "      <button class=\"colab-df-convert\" onclick=\"convertToInteractive('df-cdba0938-fb7f-4dad-bbf9-2454043dacd7')\"\n",
              "              title=\"Convert this dataframe to an interactive table.\"\n",
              "              style=\"display:none;\">\n",
              "        \n",
              "  <svg xmlns=\"http://www.w3.org/2000/svg\" height=\"24px\"viewBox=\"0 0 24 24\"\n",
              "       width=\"24px\">\n",
              "    <path d=\"M0 0h24v24H0V0z\" fill=\"none\"/>\n",
              "    <path d=\"M18.56 5.44l.94 2.06.94-2.06 2.06-.94-2.06-.94-.94-2.06-.94 2.06-2.06.94zm-11 1L8.5 8.5l.94-2.06 2.06-.94-2.06-.94L8.5 2.5l-.94 2.06-2.06.94zm10 10l.94 2.06.94-2.06 2.06-.94-2.06-.94-.94-2.06-.94 2.06-2.06.94z\"/><path d=\"M17.41 7.96l-1.37-1.37c-.4-.4-.92-.59-1.43-.59-.52 0-1.04.2-1.43.59L10.3 9.45l-7.72 7.72c-.78.78-.78 2.05 0 2.83L4 21.41c.39.39.9.59 1.41.59.51 0 1.02-.2 1.41-.59l7.78-7.78 2.81-2.81c.8-.78.8-2.07 0-2.86zM5.41 20L4 18.59l7.72-7.72 1.47 1.35L5.41 20z\"/>\n",
              "  </svg>\n",
              "      </button>\n",
              "      \n",
              "  <style>\n",
              "    .colab-df-container {\n",
              "      display:flex;\n",
              "      flex-wrap:wrap;\n",
              "      gap: 12px;\n",
              "    }\n",
              "\n",
              "    .colab-df-convert {\n",
              "      background-color: #E8F0FE;\n",
              "      border: none;\n",
              "      border-radius: 50%;\n",
              "      cursor: pointer;\n",
              "      display: none;\n",
              "      fill: #1967D2;\n",
              "      height: 32px;\n",
              "      padding: 0 0 0 0;\n",
              "      width: 32px;\n",
              "    }\n",
              "\n",
              "    .colab-df-convert:hover {\n",
              "      background-color: #E2EBFA;\n",
              "      box-shadow: 0px 1px 2px rgba(60, 64, 67, 0.3), 0px 1px 3px 1px rgba(60, 64, 67, 0.15);\n",
              "      fill: #174EA6;\n",
              "    }\n",
              "\n",
              "    [theme=dark] .colab-df-convert {\n",
              "      background-color: #3B4455;\n",
              "      fill: #D2E3FC;\n",
              "    }\n",
              "\n",
              "    [theme=dark] .colab-df-convert:hover {\n",
              "      background-color: #434B5C;\n",
              "      box-shadow: 0px 1px 3px 1px rgba(0, 0, 0, 0.15);\n",
              "      filter: drop-shadow(0px 1px 2px rgba(0, 0, 0, 0.3));\n",
              "      fill: #FFFFFF;\n",
              "    }\n",
              "  </style>\n",
              "\n",
              "      <script>\n",
              "        const buttonEl =\n",
              "          document.querySelector('#df-cdba0938-fb7f-4dad-bbf9-2454043dacd7 button.colab-df-convert');\n",
              "        buttonEl.style.display =\n",
              "          google.colab.kernel.accessAllowed ? 'block' : 'none';\n",
              "\n",
              "        async function convertToInteractive(key) {\n",
              "          const element = document.querySelector('#df-cdba0938-fb7f-4dad-bbf9-2454043dacd7');\n",
              "          const dataTable =\n",
              "            await google.colab.kernel.invokeFunction('convertToInteractive',\n",
              "                                                     [key], {});\n",
              "          if (!dataTable) return;\n",
              "\n",
              "          const docLinkHtml = 'Like what you see? Visit the ' +\n",
              "            '<a target=\"_blank\" href=https://colab.research.google.com/notebooks/data_table.ipynb>data table notebook</a>'\n",
              "            + ' to learn more about interactive tables.';\n",
              "          element.innerHTML = '';\n",
              "          dataTable['output_type'] = 'display_data';\n",
              "          await google.colab.output.renderOutput(dataTable, element);\n",
              "          const docLink = document.createElement('div');\n",
              "          docLink.innerHTML = docLinkHtml;\n",
              "          element.appendChild(docLink);\n",
              "        }\n",
              "      </script>\n",
              "    </div>\n",
              "  </div>\n",
              "  "
            ]
          },
          "metadata": {},
          "execution_count": 6
        }
      ]
    },
    {
      "cell_type": "code",
      "source": [
        "df.info()"
      ],
      "metadata": {
        "colab": {
          "base_uri": "https://localhost:8080/"
        },
        "id": "PESvgLRySq3W",
        "outputId": "6bfbc12f-76c6-4461-9cda-70f1f3de3e56"
      },
      "execution_count": null,
      "outputs": [
        {
          "output_type": "stream",
          "name": "stdout",
          "text": [
            "<class 'pandas.core.frame.DataFrame'>\n",
            "RangeIndex: 25553 entries, 0 to 25552\n",
            "Data columns (total 9 columns):\n",
            " #   Column         Non-Null Count  Dtype  \n",
            "---  ------         --------------  -----  \n",
            " 0   Column1        25553 non-null  int64  \n",
            " 1   Content ID     25553 non-null  object \n",
            " 2   Reaction Type  24573 non-null  object \n",
            " 3   Datetime       25553 non-null  object \n",
            " 4   User ID        25553 non-null  object \n",
            " 5   Content Type   25553 non-null  object \n",
            " 6   Category       25553 non-null  object \n",
            " 7   Sentiment      24573 non-null  object \n",
            " 8   Score          24573 non-null  float64\n",
            "dtypes: float64(1), int64(1), object(7)\n",
            "memory usage: 1.8+ MB\n"
          ]
        }
      ]
    },
    {
      "cell_type": "code",
      "source": [
        "df.isnull().sum()"
      ],
      "metadata": {
        "colab": {
          "base_uri": "https://localhost:8080/"
        },
        "id": "AbUc9Vm2UGg6",
        "outputId": "1b0ff770-79e2-46f3-f54c-d4c3e0914e0f"
      },
      "execution_count": null,
      "outputs": [
        {
          "output_type": "execute_result",
          "data": {
            "text/plain": [
              "Column1            0\n",
              "Content ID         0\n",
              "Reaction Type    980\n",
              "Datetime           0\n",
              "User ID            0\n",
              "Content Type       0\n",
              "Category           0\n",
              "Sentiment        980\n",
              "Score            980\n",
              "dtype: int64"
            ]
          },
          "metadata": {},
          "execution_count": 8
        }
      ]
    },
    {
      "cell_type": "code",
      "source": [
        "df.drop('Column1', axis = 1, inplace = True)"
      ],
      "metadata": {
        "id": "svfX2qljUZTm"
      },
      "execution_count": null,
      "outputs": []
    },
    {
      "cell_type": "code",
      "source": [
        "df.info()"
      ],
      "metadata": {
        "colab": {
          "base_uri": "https://localhost:8080/"
        },
        "id": "OZnROSzEVHkQ",
        "outputId": "1b1b7b73-64f3-4b40-81e5-30ae11c2692a"
      },
      "execution_count": null,
      "outputs": [
        {
          "output_type": "stream",
          "name": "stdout",
          "text": [
            "<class 'pandas.core.frame.DataFrame'>\n",
            "RangeIndex: 25553 entries, 0 to 25552\n",
            "Data columns (total 8 columns):\n",
            " #   Column         Non-Null Count  Dtype  \n",
            "---  ------         --------------  -----  \n",
            " 0   Content ID     25553 non-null  object \n",
            " 1   Reaction Type  24573 non-null  object \n",
            " 2   Datetime       25553 non-null  object \n",
            " 3   User ID        25553 non-null  object \n",
            " 4   Content Type   25553 non-null  object \n",
            " 5   Category       25553 non-null  object \n",
            " 6   Sentiment      24573 non-null  object \n",
            " 7   Score          24573 non-null  float64\n",
            "dtypes: float64(1), object(7)\n",
            "memory usage: 1.6+ MB\n"
          ]
        }
      ]
    },
    {
      "cell_type": "code",
      "source": [
        "df.head()"
      ],
      "metadata": {
        "colab": {
          "base_uri": "https://localhost:8080/",
          "height": 206
        },
        "id": "NPjVPgbuVJv8",
        "outputId": "9e901df2-7b1a-4384-b877-6abfed901ee6"
      },
      "execution_count": null,
      "outputs": [
        {
          "output_type": "execute_result",
          "data": {
            "text/plain": [
              "                             Content ID Reaction Type          Datetime  \\\n",
              "0  97522e57-d9ab-4bd6-97bf-c24d952602d2           NaN  22-04-2021 15:17   \n",
              "1  97522e57-d9ab-4bd6-97bf-c24d952602d2       disgust  07-11-2020 09:43   \n",
              "2  97522e57-d9ab-4bd6-97bf-c24d952602d2       disgust  06-01-2021 19:13   \n",
              "3  97522e57-d9ab-4bd6-97bf-c24d952602d2       dislike  17-06-2021 12:22   \n",
              "4  97522e57-d9ab-4bd6-97bf-c24d952602d2        scared  18-04-2021 05:13   \n",
              "\n",
              "                                User ID Content Type  Category Sentiment  \\\n",
              "0  8d3cd87d-8a31-4935-9a4f-b319bfe05f31        photo  Studying       NaN   \n",
              "1  8d3cd87d-8a31-4935-9a4f-b319bfe05f31        photo  Studying  negative   \n",
              "2  8d3cd87d-8a31-4935-9a4f-b319bfe05f31        photo  Studying  negative   \n",
              "3  8d3cd87d-8a31-4935-9a4f-b319bfe05f31        photo  Studying  negative   \n",
              "4  8d3cd87d-8a31-4935-9a4f-b319bfe05f31        photo  Studying  negative   \n",
              "\n",
              "   Score  \n",
              "0    NaN  \n",
              "1    0.0  \n",
              "2    0.0  \n",
              "3   10.0  \n",
              "4   15.0  "
            ],
            "text/html": [
              "\n",
              "  <div id=\"df-3e6ea97e-33bf-49eb-b3da-4415a9abffc7\">\n",
              "    <div class=\"colab-df-container\">\n",
              "      <div>\n",
              "<style scoped>\n",
              "    .dataframe tbody tr th:only-of-type {\n",
              "        vertical-align: middle;\n",
              "    }\n",
              "\n",
              "    .dataframe tbody tr th {\n",
              "        vertical-align: top;\n",
              "    }\n",
              "\n",
              "    .dataframe thead th {\n",
              "        text-align: right;\n",
              "    }\n",
              "</style>\n",
              "<table border=\"1\" class=\"dataframe\">\n",
              "  <thead>\n",
              "    <tr style=\"text-align: right;\">\n",
              "      <th></th>\n",
              "      <th>Content ID</th>\n",
              "      <th>Reaction Type</th>\n",
              "      <th>Datetime</th>\n",
              "      <th>User ID</th>\n",
              "      <th>Content Type</th>\n",
              "      <th>Category</th>\n",
              "      <th>Sentiment</th>\n",
              "      <th>Score</th>\n",
              "    </tr>\n",
              "  </thead>\n",
              "  <tbody>\n",
              "    <tr>\n",
              "      <th>0</th>\n",
              "      <td>97522e57-d9ab-4bd6-97bf-c24d952602d2</td>\n",
              "      <td>NaN</td>\n",
              "      <td>22-04-2021 15:17</td>\n",
              "      <td>8d3cd87d-8a31-4935-9a4f-b319bfe05f31</td>\n",
              "      <td>photo</td>\n",
              "      <td>Studying</td>\n",
              "      <td>NaN</td>\n",
              "      <td>NaN</td>\n",
              "    </tr>\n",
              "    <tr>\n",
              "      <th>1</th>\n",
              "      <td>97522e57-d9ab-4bd6-97bf-c24d952602d2</td>\n",
              "      <td>disgust</td>\n",
              "      <td>07-11-2020 09:43</td>\n",
              "      <td>8d3cd87d-8a31-4935-9a4f-b319bfe05f31</td>\n",
              "      <td>photo</td>\n",
              "      <td>Studying</td>\n",
              "      <td>negative</td>\n",
              "      <td>0.0</td>\n",
              "    </tr>\n",
              "    <tr>\n",
              "      <th>2</th>\n",
              "      <td>97522e57-d9ab-4bd6-97bf-c24d952602d2</td>\n",
              "      <td>disgust</td>\n",
              "      <td>06-01-2021 19:13</td>\n",
              "      <td>8d3cd87d-8a31-4935-9a4f-b319bfe05f31</td>\n",
              "      <td>photo</td>\n",
              "      <td>Studying</td>\n",
              "      <td>negative</td>\n",
              "      <td>0.0</td>\n",
              "    </tr>\n",
              "    <tr>\n",
              "      <th>3</th>\n",
              "      <td>97522e57-d9ab-4bd6-97bf-c24d952602d2</td>\n",
              "      <td>dislike</td>\n",
              "      <td>17-06-2021 12:22</td>\n",
              "      <td>8d3cd87d-8a31-4935-9a4f-b319bfe05f31</td>\n",
              "      <td>photo</td>\n",
              "      <td>Studying</td>\n",
              "      <td>negative</td>\n",
              "      <td>10.0</td>\n",
              "    </tr>\n",
              "    <tr>\n",
              "      <th>4</th>\n",
              "      <td>97522e57-d9ab-4bd6-97bf-c24d952602d2</td>\n",
              "      <td>scared</td>\n",
              "      <td>18-04-2021 05:13</td>\n",
              "      <td>8d3cd87d-8a31-4935-9a4f-b319bfe05f31</td>\n",
              "      <td>photo</td>\n",
              "      <td>Studying</td>\n",
              "      <td>negative</td>\n",
              "      <td>15.0</td>\n",
              "    </tr>\n",
              "  </tbody>\n",
              "</table>\n",
              "</div>\n",
              "      <button class=\"colab-df-convert\" onclick=\"convertToInteractive('df-3e6ea97e-33bf-49eb-b3da-4415a9abffc7')\"\n",
              "              title=\"Convert this dataframe to an interactive table.\"\n",
              "              style=\"display:none;\">\n",
              "        \n",
              "  <svg xmlns=\"http://www.w3.org/2000/svg\" height=\"24px\"viewBox=\"0 0 24 24\"\n",
              "       width=\"24px\">\n",
              "    <path d=\"M0 0h24v24H0V0z\" fill=\"none\"/>\n",
              "    <path d=\"M18.56 5.44l.94 2.06.94-2.06 2.06-.94-2.06-.94-.94-2.06-.94 2.06-2.06.94zm-11 1L8.5 8.5l.94-2.06 2.06-.94-2.06-.94L8.5 2.5l-.94 2.06-2.06.94zm10 10l.94 2.06.94-2.06 2.06-.94-2.06-.94-.94-2.06-.94 2.06-2.06.94z\"/><path d=\"M17.41 7.96l-1.37-1.37c-.4-.4-.92-.59-1.43-.59-.52 0-1.04.2-1.43.59L10.3 9.45l-7.72 7.72c-.78.78-.78 2.05 0 2.83L4 21.41c.39.39.9.59 1.41.59.51 0 1.02-.2 1.41-.59l7.78-7.78 2.81-2.81c.8-.78.8-2.07 0-2.86zM5.41 20L4 18.59l7.72-7.72 1.47 1.35L5.41 20z\"/>\n",
              "  </svg>\n",
              "      </button>\n",
              "      \n",
              "  <style>\n",
              "    .colab-df-container {\n",
              "      display:flex;\n",
              "      flex-wrap:wrap;\n",
              "      gap: 12px;\n",
              "    }\n",
              "\n",
              "    .colab-df-convert {\n",
              "      background-color: #E8F0FE;\n",
              "      border: none;\n",
              "      border-radius: 50%;\n",
              "      cursor: pointer;\n",
              "      display: none;\n",
              "      fill: #1967D2;\n",
              "      height: 32px;\n",
              "      padding: 0 0 0 0;\n",
              "      width: 32px;\n",
              "    }\n",
              "\n",
              "    .colab-df-convert:hover {\n",
              "      background-color: #E2EBFA;\n",
              "      box-shadow: 0px 1px 2px rgba(60, 64, 67, 0.3), 0px 1px 3px 1px rgba(60, 64, 67, 0.15);\n",
              "      fill: #174EA6;\n",
              "    }\n",
              "\n",
              "    [theme=dark] .colab-df-convert {\n",
              "      background-color: #3B4455;\n",
              "      fill: #D2E3FC;\n",
              "    }\n",
              "\n",
              "    [theme=dark] .colab-df-convert:hover {\n",
              "      background-color: #434B5C;\n",
              "      box-shadow: 0px 1px 3px 1px rgba(0, 0, 0, 0.15);\n",
              "      filter: drop-shadow(0px 1px 2px rgba(0, 0, 0, 0.3));\n",
              "      fill: #FFFFFF;\n",
              "    }\n",
              "  </style>\n",
              "\n",
              "      <script>\n",
              "        const buttonEl =\n",
              "          document.querySelector('#df-3e6ea97e-33bf-49eb-b3da-4415a9abffc7 button.colab-df-convert');\n",
              "        buttonEl.style.display =\n",
              "          google.colab.kernel.accessAllowed ? 'block' : 'none';\n",
              "\n",
              "        async function convertToInteractive(key) {\n",
              "          const element = document.querySelector('#df-3e6ea97e-33bf-49eb-b3da-4415a9abffc7');\n",
              "          const dataTable =\n",
              "            await google.colab.kernel.invokeFunction('convertToInteractive',\n",
              "                                                     [key], {});\n",
              "          if (!dataTable) return;\n",
              "\n",
              "          const docLinkHtml = 'Like what you see? Visit the ' +\n",
              "            '<a target=\"_blank\" href=https://colab.research.google.com/notebooks/data_table.ipynb>data table notebook</a>'\n",
              "            + ' to learn more about interactive tables.';\n",
              "          element.innerHTML = '';\n",
              "          dataTable['output_type'] = 'display_data';\n",
              "          await google.colab.output.renderOutput(dataTable, element);\n",
              "          const docLink = document.createElement('div');\n",
              "          docLink.innerHTML = docLinkHtml;\n",
              "          element.appendChild(docLink);\n",
              "        }\n",
              "      </script>\n",
              "    </div>\n",
              "  </div>\n",
              "  "
            ]
          },
          "metadata": {},
          "execution_count": 11
        }
      ]
    },
    {
      "cell_type": "code",
      "source": [
        "df = df.dropna()"
      ],
      "metadata": {
        "id": "KX1yKNNEVaUR"
      },
      "execution_count": null,
      "outputs": []
    },
    {
      "cell_type": "code",
      "source": [
        "df.head()"
      ],
      "metadata": {
        "colab": {
          "base_uri": "https://localhost:8080/",
          "height": 206
        },
        "id": "psX0d4SjVgBh",
        "outputId": "589b0ece-bade-495f-9ca5-81dea5570515"
      },
      "execution_count": null,
      "outputs": [
        {
          "output_type": "execute_result",
          "data": {
            "text/plain": [
              "                             Content ID Reaction Type          Datetime  \\\n",
              "1  97522e57-d9ab-4bd6-97bf-c24d952602d2       disgust  07-11-2020 09:43   \n",
              "2  97522e57-d9ab-4bd6-97bf-c24d952602d2       disgust  06-01-2021 19:13   \n",
              "3  97522e57-d9ab-4bd6-97bf-c24d952602d2       dislike  17-06-2021 12:22   \n",
              "4  97522e57-d9ab-4bd6-97bf-c24d952602d2        scared  18-04-2021 05:13   \n",
              "5  97522e57-d9ab-4bd6-97bf-c24d952602d2        scared  02-11-2020 06:28   \n",
              "\n",
              "                                User ID Content Type  Category Sentiment  \\\n",
              "1  8d3cd87d-8a31-4935-9a4f-b319bfe05f31        photo  Studying  negative   \n",
              "2  8d3cd87d-8a31-4935-9a4f-b319bfe05f31        photo  Studying  negative   \n",
              "3  8d3cd87d-8a31-4935-9a4f-b319bfe05f31        photo  Studying  negative   \n",
              "4  8d3cd87d-8a31-4935-9a4f-b319bfe05f31        photo  Studying  negative   \n",
              "5  8d3cd87d-8a31-4935-9a4f-b319bfe05f31        photo  Studying  negative   \n",
              "\n",
              "   Score  \n",
              "1    0.0  \n",
              "2    0.0  \n",
              "3   10.0  \n",
              "4   15.0  \n",
              "5   15.0  "
            ],
            "text/html": [
              "\n",
              "  <div id=\"df-8b49512c-e294-40cd-a6d1-193a5d7b5032\">\n",
              "    <div class=\"colab-df-container\">\n",
              "      <div>\n",
              "<style scoped>\n",
              "    .dataframe tbody tr th:only-of-type {\n",
              "        vertical-align: middle;\n",
              "    }\n",
              "\n",
              "    .dataframe tbody tr th {\n",
              "        vertical-align: top;\n",
              "    }\n",
              "\n",
              "    .dataframe thead th {\n",
              "        text-align: right;\n",
              "    }\n",
              "</style>\n",
              "<table border=\"1\" class=\"dataframe\">\n",
              "  <thead>\n",
              "    <tr style=\"text-align: right;\">\n",
              "      <th></th>\n",
              "      <th>Content ID</th>\n",
              "      <th>Reaction Type</th>\n",
              "      <th>Datetime</th>\n",
              "      <th>User ID</th>\n",
              "      <th>Content Type</th>\n",
              "      <th>Category</th>\n",
              "      <th>Sentiment</th>\n",
              "      <th>Score</th>\n",
              "    </tr>\n",
              "  </thead>\n",
              "  <tbody>\n",
              "    <tr>\n",
              "      <th>1</th>\n",
              "      <td>97522e57-d9ab-4bd6-97bf-c24d952602d2</td>\n",
              "      <td>disgust</td>\n",
              "      <td>07-11-2020 09:43</td>\n",
              "      <td>8d3cd87d-8a31-4935-9a4f-b319bfe05f31</td>\n",
              "      <td>photo</td>\n",
              "      <td>Studying</td>\n",
              "      <td>negative</td>\n",
              "      <td>0.0</td>\n",
              "    </tr>\n",
              "    <tr>\n",
              "      <th>2</th>\n",
              "      <td>97522e57-d9ab-4bd6-97bf-c24d952602d2</td>\n",
              "      <td>disgust</td>\n",
              "      <td>06-01-2021 19:13</td>\n",
              "      <td>8d3cd87d-8a31-4935-9a4f-b319bfe05f31</td>\n",
              "      <td>photo</td>\n",
              "      <td>Studying</td>\n",
              "      <td>negative</td>\n",
              "      <td>0.0</td>\n",
              "    </tr>\n",
              "    <tr>\n",
              "      <th>3</th>\n",
              "      <td>97522e57-d9ab-4bd6-97bf-c24d952602d2</td>\n",
              "      <td>dislike</td>\n",
              "      <td>17-06-2021 12:22</td>\n",
              "      <td>8d3cd87d-8a31-4935-9a4f-b319bfe05f31</td>\n",
              "      <td>photo</td>\n",
              "      <td>Studying</td>\n",
              "      <td>negative</td>\n",
              "      <td>10.0</td>\n",
              "    </tr>\n",
              "    <tr>\n",
              "      <th>4</th>\n",
              "      <td>97522e57-d9ab-4bd6-97bf-c24d952602d2</td>\n",
              "      <td>scared</td>\n",
              "      <td>18-04-2021 05:13</td>\n",
              "      <td>8d3cd87d-8a31-4935-9a4f-b319bfe05f31</td>\n",
              "      <td>photo</td>\n",
              "      <td>Studying</td>\n",
              "      <td>negative</td>\n",
              "      <td>15.0</td>\n",
              "    </tr>\n",
              "    <tr>\n",
              "      <th>5</th>\n",
              "      <td>97522e57-d9ab-4bd6-97bf-c24d952602d2</td>\n",
              "      <td>scared</td>\n",
              "      <td>02-11-2020 06:28</td>\n",
              "      <td>8d3cd87d-8a31-4935-9a4f-b319bfe05f31</td>\n",
              "      <td>photo</td>\n",
              "      <td>Studying</td>\n",
              "      <td>negative</td>\n",
              "      <td>15.0</td>\n",
              "    </tr>\n",
              "  </tbody>\n",
              "</table>\n",
              "</div>\n",
              "      <button class=\"colab-df-convert\" onclick=\"convertToInteractive('df-8b49512c-e294-40cd-a6d1-193a5d7b5032')\"\n",
              "              title=\"Convert this dataframe to an interactive table.\"\n",
              "              style=\"display:none;\">\n",
              "        \n",
              "  <svg xmlns=\"http://www.w3.org/2000/svg\" height=\"24px\"viewBox=\"0 0 24 24\"\n",
              "       width=\"24px\">\n",
              "    <path d=\"M0 0h24v24H0V0z\" fill=\"none\"/>\n",
              "    <path d=\"M18.56 5.44l.94 2.06.94-2.06 2.06-.94-2.06-.94-.94-2.06-.94 2.06-2.06.94zm-11 1L8.5 8.5l.94-2.06 2.06-.94-2.06-.94L8.5 2.5l-.94 2.06-2.06.94zm10 10l.94 2.06.94-2.06 2.06-.94-2.06-.94-.94-2.06-.94 2.06-2.06.94z\"/><path d=\"M17.41 7.96l-1.37-1.37c-.4-.4-.92-.59-1.43-.59-.52 0-1.04.2-1.43.59L10.3 9.45l-7.72 7.72c-.78.78-.78 2.05 0 2.83L4 21.41c.39.39.9.59 1.41.59.51 0 1.02-.2 1.41-.59l7.78-7.78 2.81-2.81c.8-.78.8-2.07 0-2.86zM5.41 20L4 18.59l7.72-7.72 1.47 1.35L5.41 20z\"/>\n",
              "  </svg>\n",
              "      </button>\n",
              "      \n",
              "  <style>\n",
              "    .colab-df-container {\n",
              "      display:flex;\n",
              "      flex-wrap:wrap;\n",
              "      gap: 12px;\n",
              "    }\n",
              "\n",
              "    .colab-df-convert {\n",
              "      background-color: #E8F0FE;\n",
              "      border: none;\n",
              "      border-radius: 50%;\n",
              "      cursor: pointer;\n",
              "      display: none;\n",
              "      fill: #1967D2;\n",
              "      height: 32px;\n",
              "      padding: 0 0 0 0;\n",
              "      width: 32px;\n",
              "    }\n",
              "\n",
              "    .colab-df-convert:hover {\n",
              "      background-color: #E2EBFA;\n",
              "      box-shadow: 0px 1px 2px rgba(60, 64, 67, 0.3), 0px 1px 3px 1px rgba(60, 64, 67, 0.15);\n",
              "      fill: #174EA6;\n",
              "    }\n",
              "\n",
              "    [theme=dark] .colab-df-convert {\n",
              "      background-color: #3B4455;\n",
              "      fill: #D2E3FC;\n",
              "    }\n",
              "\n",
              "    [theme=dark] .colab-df-convert:hover {\n",
              "      background-color: #434B5C;\n",
              "      box-shadow: 0px 1px 3px 1px rgba(0, 0, 0, 0.15);\n",
              "      filter: drop-shadow(0px 1px 2px rgba(0, 0, 0, 0.3));\n",
              "      fill: #FFFFFF;\n",
              "    }\n",
              "  </style>\n",
              "\n",
              "      <script>\n",
              "        const buttonEl =\n",
              "          document.querySelector('#df-8b49512c-e294-40cd-a6d1-193a5d7b5032 button.colab-df-convert');\n",
              "        buttonEl.style.display =\n",
              "          google.colab.kernel.accessAllowed ? 'block' : 'none';\n",
              "\n",
              "        async function convertToInteractive(key) {\n",
              "          const element = document.querySelector('#df-8b49512c-e294-40cd-a6d1-193a5d7b5032');\n",
              "          const dataTable =\n",
              "            await google.colab.kernel.invokeFunction('convertToInteractive',\n",
              "                                                     [key], {});\n",
              "          if (!dataTable) return;\n",
              "\n",
              "          const docLinkHtml = 'Like what you see? Visit the ' +\n",
              "            '<a target=\"_blank\" href=https://colab.research.google.com/notebooks/data_table.ipynb>data table notebook</a>'\n",
              "            + ' to learn more about interactive tables.';\n",
              "          element.innerHTML = '';\n",
              "          dataTable['output_type'] = 'display_data';\n",
              "          await google.colab.output.renderOutput(dataTable, element);\n",
              "          const docLink = document.createElement('div');\n",
              "          docLink.innerHTML = docLinkHtml;\n",
              "          element.appendChild(docLink);\n",
              "        }\n",
              "      </script>\n",
              "    </div>\n",
              "  </div>\n",
              "  "
            ]
          },
          "metadata": {},
          "execution_count": 13
        }
      ]
    },
    {
      "cell_type": "code",
      "source": [
        "df.info()"
      ],
      "metadata": {
        "colab": {
          "base_uri": "https://localhost:8080/"
        },
        "id": "hiIiq67VVhd8",
        "outputId": "4d762c01-a5b2-4088-b3ff-4af832232f9b"
      },
      "execution_count": null,
      "outputs": [
        {
          "output_type": "stream",
          "name": "stdout",
          "text": [
            "<class 'pandas.core.frame.DataFrame'>\n",
            "Int64Index: 24573 entries, 1 to 25552\n",
            "Data columns (total 8 columns):\n",
            " #   Column         Non-Null Count  Dtype  \n",
            "---  ------         --------------  -----  \n",
            " 0   Content ID     24573 non-null  object \n",
            " 1   Reaction Type  24573 non-null  object \n",
            " 2   Datetime       24573 non-null  object \n",
            " 3   User ID        24573 non-null  object \n",
            " 4   Content Type   24573 non-null  object \n",
            " 5   Category       24573 non-null  object \n",
            " 6   Sentiment      24573 non-null  object \n",
            " 7   Score          24573 non-null  float64\n",
            "dtypes: float64(1), object(7)\n",
            "memory usage: 1.7+ MB\n"
          ]
        }
      ]
    },
    {
      "cell_type": "code",
      "source": [
        "df['Category'].unique()"
      ],
      "metadata": {
        "colab": {
          "base_uri": "https://localhost:8080/"
        },
        "id": "qcbEADFeVjaw",
        "outputId": "76a33772-c0eb-4c3c-fcc4-0640ac5974dd"
      },
      "execution_count": null,
      "outputs": [
        {
          "output_type": "execute_result",
          "data": {
            "text/plain": [
              "array(['Studying', 'healthy eating', 'technology', 'food', 'cooking',\n",
              "       'dogs', 'soccer', 'public speaking', 'science', 'tennis', 'travel',\n",
              "       'fitness', 'education', 'studying', 'veganism', 'Animals',\n",
              "       'animals', 'culture', '\"culture\"', 'Fitness', '\"studying\"',\n",
              "       'Veganism', '\"animals\"', 'Travel', '\"soccer\"', 'Education',\n",
              "       '\"dogs\"', 'Technology', 'Soccer', 'Culture', '\"food\"', 'Food',\n",
              "       '\"technology\"', 'Healthy Eating', '\"cooking\"', 'Science',\n",
              "       '\"public speaking\"', '\"veganism\"', 'Public Speaking', '\"science\"'],\n",
              "      dtype=object)"
            ]
          },
          "metadata": {},
          "execution_count": 15
        }
      ]
    },
    {
      "cell_type": "code",
      "source": [
        "df['Category'] = df['Category'].replace('\"', '', regex = True)\n",
        "df['Category'] = df['Category'].str.lower()"
      ],
      "metadata": {
        "id": "PLci1IXAWXXs"
      },
      "execution_count": null,
      "outputs": []
    },
    {
      "cell_type": "code",
      "source": [
        "df['Category'].unique()"
      ],
      "metadata": {
        "colab": {
          "base_uri": "https://localhost:8080/"
        },
        "id": "7dDIE3fBXpWP",
        "outputId": "c822ba36-4ca9-44cb-8fe3-64e1be2cd487"
      },
      "execution_count": null,
      "outputs": [
        {
          "output_type": "execute_result",
          "data": {
            "text/plain": [
              "array(['studying', 'healthy eating', 'technology', 'food', 'cooking',\n",
              "       'dogs', 'soccer', 'public speaking', 'science', 'tennis', 'travel',\n",
              "       'fitness', 'education', 'veganism', 'animals', 'culture'],\n",
              "      dtype=object)"
            ]
          },
          "metadata": {},
          "execution_count": 17
        }
      ]
    },
    {
      "cell_type": "code",
      "source": [
        "df['Sentiment'].unique()"
      ],
      "metadata": {
        "colab": {
          "base_uri": "https://localhost:8080/"
        },
        "id": "nA-nx4ilXxF2",
        "outputId": "7dd0c895-6e9f-4a56-c68e-8cc6e0d2c5b5"
      },
      "execution_count": null,
      "outputs": [
        {
          "output_type": "execute_result",
          "data": {
            "text/plain": [
              "array(['negative', 'positive', 'neutral'], dtype=object)"
            ]
          },
          "metadata": {},
          "execution_count": 18
        }
      ]
    },
    {
      "cell_type": "code",
      "source": [
        "df.to_csv('Task 2 Clean.csv', index = False)"
      ],
      "metadata": {
        "id": "QIHFAEesX_Lm"
      },
      "execution_count": null,
      "outputs": []
    },
    {
      "cell_type": "code",
      "source": [],
      "metadata": {
        "id": "oCID0e1OYuqA"
      },
      "execution_count": null,
      "outputs": []
    }
  ]
}